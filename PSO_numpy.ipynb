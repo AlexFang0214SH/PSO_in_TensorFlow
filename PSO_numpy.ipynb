{
 "cells": [
  {
   "cell_type": "code",
   "execution_count": 1,
   "metadata": {},
   "outputs": [],
   "source": [
    "import numpy as np\n",
    "import pandas as pd\n",
    "import matplotlib.pyplot as plt\n",
    "import time\n",
    "%matplotlib inline"
   ]
  },
  {
   "cell_type": "code",
   "execution_count": 2,
   "metadata": {},
   "outputs": [],
   "source": [
    "from PSO_numpy import PSONumpy,dummy_dataset"
   ]
  },
  {
   "cell_type": "code",
   "execution_count": 3,
   "metadata": {},
   "outputs": [
    {
     "name": "stderr",
     "output_type": "stream",
     "text": [
      "C:\\Users\\splathottam\\Documents\\GitHub\\PSO_in_TensorFlow\\PSO_numpy.py:20: FutureWarning: Method .as_matrix will be removed in a future version. Use .values instead.\n",
      "  x1 = col1.as_matrix()\n",
      "C:\\Users\\splathottam\\Documents\\GitHub\\PSO_in_TensorFlow\\PSO_numpy.py:21: FutureWarning: Method .as_matrix will be removed in a future version. Use .values instead.\n",
      "  y1 = col2.as_matrix()\n"
     ]
    },
    {
     "data": {
      "image/png": "[encoded data removed]",
      "text/plain": [
       "<Figure size 432x288 with 1 Axes>"
      ]
     },
     "metadata": {
      "needs_background": "light"
     },
     "output_type": "display_data"
    }
   ],
   "source": [
    "x,y = dummy_dataset()\n",
    "pso1= PSONumpy(x,y,'test')"
   ]
  },
  {
   "cell_type": "code",
   "execution_count": 4,
   "metadata": {},
   "outputs": [],
   "source": [
    "pso1.initialize_swarm()"
   ]
  },
  {
   "cell_type": "code",
   "execution_count": 5,
   "metadata": {},
   "outputs": [
    {
     "name": "stdout",
     "output_type": "stream",
     "text": [
      "Global best:Index:0,Fitness:34.86693188107949\n",
      "Iteration: 0\n",
      "Particle fitness:[  34.86693188  252.64430433   51.9507174   463.02527826   78.89149248\n",
      "  467.60066725  518.61108445   43.01516434  106.20099914 1106.69500021]\n",
      "Particle best fitness:[  34.86693188  252.64430433   51.9507174   463.02527826   78.89149248\n",
      "  467.60066725  518.61108445   43.01516434  106.20099914 1106.69500021]\n",
      "Global best:Index:0,Fitness:34.86693188107949\n",
      "Global best:Index:0,Fitness:34.86693188107949\n",
      "Global best:Index:7,Fitness:33.75969803978372\n",
      "Global best:Index:7,Fitness:32.274383899979334\n",
      "Global best:Index:7,Fitness:32.274383899979334\n",
      "Iteration: 5\n",
      "Particle fitness:[34.4521562  40.78199168 36.80184716 53.93924037 32.63973654 45.48310782\n",
      " 49.40835947 32.29206455 33.13408254 72.20904078]\n",
      "Particle best fitness:[34.4521562  40.78199168 36.80184716 53.93924037 32.63973654 45.48310782\n",
      " 49.40835947 32.2743839  33.13408254 72.20904078]\n",
      "Global best:Index:9,Fitness:30.075732642399633\n",
      "Global best:Index:9,Fitness:30.075732642399633\n",
      "Global best:Index:9,Fitness:30.075732642399633\n",
      "Global best:Index:9,Fitness:30.075732642399633\n",
      "Global best:Index:9,Fitness:30.075732642399633\n",
      "Iteration: 10\n",
      "Particle fitness:[ 31.00629896 132.89251811  40.43583523 208.60306148  56.05296161\n",
      " 219.80493518 237.04261788  39.02990602  73.23852937 468.55113879]\n",
      "Particle best fitness:[31.00629896 34.68031497 35.41424369 36.93901023 32.63973654 31.42052173\n",
      " 32.29273226 32.2743839  33.13159669 30.07573264]\n",
      "Global best:Index:9,Fitness:30.075732642399633\n",
      "Global best:Index:0,Fitness:29.921374643302983\n",
      "Global best:Index:0,Fitness:29.627725305542388\n",
      "Global best:Index:0,Fitness:29.50066698452971\n",
      "Global best:Index:0,Fitness:29.50066698452971\n",
      "Iteration: 15\n",
      "Particle fitness:[29.54019968 31.55449023 30.96386305 32.84411917 30.25023359 30.7682119\n",
      " 31.30294836 30.27313086 30.22206045 32.31054472]\n",
      "Particle best fitness:[29.50066698 31.55449023 30.96386305 32.84411917 30.25023359 30.7682119\n",
      " 31.30294836 29.91894752 30.22206045 30.07573264]\n",
      "Global best:Index:2,Fitness:29.21680118572604\n",
      "Global best:Index:2,Fitness:28.204704696664013\n",
      "Global best:Index:2,Fitness:27.92757357813542\n",
      "Global best:Index:2,Fitness:27.92757357813542\n",
      "Global best:Index:2,Fitness:27.92757357813542\n",
      "Iteration: 20\n",
      "Particle fitness:[ 28.04992712 162.0241533   29.45957401 273.08610052  66.75403682\n",
      " 284.46622731 310.12875496  34.84589947  81.30339982 688.23989086]\n",
      "Particle best fitness:[28.04992712 31.55449023 27.92757358 32.84411917 30.25023359 30.7682119\n",
      " 31.30294836 29.91894752 30.22206045 30.07573264]\n",
      "Global best:Index:0,Fitness:26.96471984744208\n",
      "Global best:Index:0,Fitness:26.333129806752538\n",
      "Global best:Index:0,Fitness:26.15515699827646\n",
      "Global best:Index:0,Fitness:26.15515699827646\n",
      "Global best:Index:0,Fitness:26.15515699827646\n",
      "Iteration: 25\n",
      "Particle fitness:[27.01961978 28.31501334 28.55648897 28.8484468  27.63594129 27.55097541\n",
      " 27.80657234 29.99977988 27.39908208 28.45212183]\n",
      "Particle best fitness:[26.155157   28.31501334 27.92757358 28.8484468  27.63594129 27.55097541\n",
      " 27.80657234 26.57508548 27.39908208 28.45212183]\n",
      "Global best:Index:0,Fitness:26.15515699827646\n",
      "Global best:Index:0,Fitness:26.15515699827646\n",
      "Global best:Index:0,Fitness:26.15515699827646\n",
      "Global best:Index:0,Fitness:26.15515699827646\n",
      "Global best:Index:0,Fitness:26.15515699827646\n",
      "Iteration: 30\n",
      "Particle fitness:[ 28.27408099 179.91652827  31.3788628  293.98235849  67.86516544\n",
      " 311.44971772 337.30880062  36.64110597  79.31711063 648.79801779]\n",
      "Particle best fitness:[26.155157   28.31501334 27.39929402 28.8484468  27.63594129 27.55097541\n",
      " 27.80657234 26.57508548 27.39908208 28.45212183]\n",
      "Global best:Index:0,Fitness:26.15515699827646\n",
      "Global best:Index:0,Fitness:26.15515699827646\n",
      "Global best:Index:0,Fitness:26.15515699827646\n",
      "Global best:Index:7,Fitness:26.140058545583383\n",
      "Global best:Index:7,Fitness:26.140058545583383\n",
      "Iteration: 35\n",
      "Particle fitness:[26.81412752 40.17387896 28.50218453 52.99994907 29.6041537  45.50304427\n",
      " 48.90036329 26.92335199 30.52657414 68.01272734]\n",
      "Particle best fitness:[26.155157   28.31501334 27.39929402 28.8484468  27.63594129 27.55097541\n",
      " 27.80657234 26.14005855 27.39908208 28.45212183]\n",
      "Global best:Index:3,Fitness:20.063979620415562\n",
      "Global best:Index:3,Fitness:20.063979620415562\n",
      "Global best:Index:3,Fitness:20.063979620415562\n",
      "Global best:Index:3,Fitness:20.063979620415562\n",
      "Global best:Index:3,Fitness:20.063979620415562\n",
      "Iteration: 40\n",
      "Particle fitness:[ 27.95653645 121.91655956  24.86311678 191.59737873  50.24489293\n",
      " 256.13625147 290.87453985  31.47813978  65.90199891 649.65861204]\n",
      "Particle best fitness:[26.155157   22.48325246 24.56036692 20.06397962 25.19774021 27.55097541\n",
      " 26.2126239  26.14005855 25.8531273  28.45212183]\n",
      "Global best:Index:3,Fitness:20.063979620415562\n",
      "Global best:Index:3,Fitness:20.063979620415562\n",
      "Global best:Index:3,Fitness:20.063979620415562\n",
      "Global best:Index:3,Fitness:20.063979620415562\n",
      "Global best:Index:3,Fitness:12.88422433216582\n",
      "Iteration: 45\n",
      "Particle fitness:[22.70900503 16.07072761 21.56132859 12.88422433 21.04244841 25.22822842\n",
      " 24.1825442  23.78014614 22.59286255 33.18677077]\n",
      "Particle best fitness:[22.70900503 16.07072761 21.56132859 12.88422433 21.04244841 25.22822842\n",
      " 24.1825442  23.4170345  22.59286255 28.45212183]\n",
      "Global best:Index:3,Fitness:12.88422433216582\n",
      "Global best:Index:3,Fitness:12.88422433216582\n",
      "Global best:Index:3,Fitness:12.88422433216582\n",
      "Global best:Index:2,Fitness:12.203305506160191\n",
      "Global best:Index:2,Fitness:10.476225815036091\n",
      "Iteration: 50\n",
      "Particle fitness:[ 14.62332635 170.34464767  10.47622582 297.26451887  54.37173129\n",
      " 270.31553351 295.96793805  19.97907061  65.78912238 664.48341937]\n",
      "Particle best fitness:[14.62332635 16.07072761 10.47622582 12.88422433 21.04244841 25.22822842\n",
      " 24.1825442  19.97907061 22.59286255 28.45212183]\n",
      "Global best:Index:2,Fitness:9.187735096286199\n",
      "Global best:Index:2,Fitness:8.337833349910525\n",
      "Global best:Index:2,Fitness:7.926520575909064\n",
      "Global best:Index:2,Fitness:7.926520575909064\n",
      "Global best:Index:7,Fitness:6.803585411317786\n",
      "Iteration: 55\n",
      "Particle fitness:[ 8.31762055  8.22964264  8.28678963 11.28585359  8.1650396   7.17353622\n",
      "  8.19989957  6.80358541  7.84866144  6.83952182]\n",
      "Particle best fitness:[ 8.31762055  8.22964264  7.92652058 11.28585359  8.1650396   7.17353622\n",
      "  8.19989957  6.80358541  7.84866144  6.83952182]\n",
      "Global best:Index:7,Fitness:4.623842206823799\n",
      "Global best:Index:7,Fitness:3.0182969614449706\n",
      "Global best:Index:7,Fitness:1.9869496751813014\n",
      "Global best:Index:7,Fitness:1.5298003480327937\n",
      "Global best:Index:7,Fitness:1.5298003480327937\n",
      "Iteration: 60\n",
      "Particle fitness:[  2.78466949 151.43015054   2.9967855  300.37008149  36.592025\n",
      " 250.66237233 308.9763751    1.64684898  51.56952368 657.77788344]\n",
      "Particle best fitness:[ 2.78466949  8.22964264  2.9967855  11.28585359  6.98191624  7.17353622\n",
      "  8.19989957  1.52980035  7.66914297  6.83952182]\n",
      "Global best:Index:7,Fitness:1.5298003480327937\n",
      "Global best:Index:7,Fitness:1.5298003480327937\n",
      "Global best:Index:7,Fitness:1.5298003480327937\n",
      "Global best:Index:7,Fitness:1.5298003480327937\n",
      "Global best:Index:7,Fitness:1.5298003480327937\n",
      "Iteration: 65\n",
      "Particle fitness:[3.95358736 1.6349218  6.408496   2.48985665 2.41174854 1.96079302\n",
      " 2.53666151 3.78711748 3.46467442 6.11943384]\n",
      "Particle best fitness:[2.32108857 1.6349218  1.65799441 2.48985665 2.41174854 1.96079302\n",
      " 2.53666151 1.52980035 3.46467442 6.11943384]\n",
      "Global best:Index:7,Fitness:1.5298003480327937\n",
      "Global best:Index:7,Fitness:1.5298003480327937\n",
      "Global best:Index:7,Fitness:1.5298003480327937\n",
      "Global best:Index:7,Fitness:1.5298003480327937\n",
      "Global best:Index:7,Fitness:1.5298003480327937\n",
      "Iteration: 70\n",
      "Particle fitness:[  2.45281247 205.46004047   4.52661984 353.18251819  54.94999118\n",
      " 307.25812288 361.12288868   5.4745631   67.015211   744.57181872]\n",
      "Particle best fitness:[2.32108857 1.6349218  1.65799441 2.48985665 2.41174854 1.96079302\n",
      " 2.53666151 1.52980035 3.46467442 6.11943384]\n",
      "Global best:Index:7,Fitness:1.5298003480327937\n",
      "Global best:Index:7,Fitness:1.5298003480327937\n",
      "Global best:Index:7,Fitness:1.5298003480327937\n",
      "Global best:Index:7,Fitness:1.5298003480327937\n",
      "Time taken:0.09701275825500488\n"
     ]
    },
    {
     "data": {
      "image/png": "[encoded data removed]",
      "text/plain": [
       "<Figure size 432x288 with 1 Axes>"
      ]
     },
     "metadata": {
      "needs_background": "light"
     },
     "output_type": "display_data"
    }
   ],
   "source": [
    "pso1.PSO_algorithm(75)"
   ]
  }
 ],
 "metadata": {
  "kernelspec": {
   "display_name": "Python 3",
   "language": "python",
   "name": "python3"
  },
  "language_info": {
   "codemirror_mode": {
    "name": "ipython",
    "version": 3
   },
   "file_extension": ".py",
   "mimetype": "text/x-python",
   "name": "python",
   "nbconvert_exporter": "python",
   "pygments_lexer": "ipython3",
   "version": "3.7.3"
  }
 },
 "nbformat": 4,
 "nbformat_minor": 2
}
