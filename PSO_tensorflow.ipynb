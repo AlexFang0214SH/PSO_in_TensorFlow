{
 "cells": [
  {
   "cell_type": "code",
   "execution_count": 1,
   "metadata": {
    "collapsed": true
   },
   "outputs": [],
   "source": [
    "import tensorflow as tf\n",
    "import numpy as np\n",
    "import pandas as pd\n",
    "import matplotlib.pyplot as plt\n",
    "import time\n",
    "%matplotlib inline"
   ]
  },
  {
   "cell_type": "code",
   "execution_count": 2,
   "metadata": {
    "collapsed": false
   },
   "outputs": [
    {
     "data": {
      "text/plain": [
       "<matplotlib.collections.PathCollection at 0x17478cf8d30>"
      ]
     },
     "execution_count": 2,
     "metadata": {},
     "output_type": "execute_result"
    },
    {
     "data": {
      "image/png": "[encoded data removed]",
      "text/plain": [
       "<matplotlib.figure.Figure at 0x174788f5da0>"
      ]
     },
     "metadata": {},
     "output_type": "display_data"
    }
   ],
   "source": [
    "df1=pd.read_csv(\"x_y_data.csv\")   #Importing data\n",
    "col1 = df1['X']\n",
    "col2 = df1['Y']\n",
    "x1 = col1.as_matrix()\n",
    "y1_ = col2.as_matrix()\n",
    "plt.scatter(x1,y1_,color='red')   #Plotting data"
   ]
  },
  {
   "cell_type": "code",
   "execution_count": 3,
   "metadata": {
    "collapsed": true
   },
   "outputs": [],
   "source": [
    "#PSO parameters\n",
    "c1 = 0.1  #PSO hyperparametre\n",
    "c2 =0.1\n",
    "P = 30   #Number of particles\n",
    "N = 500 #Number of Iterations"
   ]
  },
  {
   "cell_type": "code",
   "execution_count": 4,
   "metadata": {
    "collapsed": false
   },
   "outputs": [
    {
     "name": "stdout",
     "output_type": "stream",
     "text": [
      "Tensor(\"Variable_6/read:0\", shape=(1,), dtype=float32)\n"
     ]
    }
   ],
   "source": [
    "def swarm(P=10):  #Define partilces\n",
    "    Wpc = tf.Variable(tf.random_normal([P])) #Current value\n",
    "    bpc = tf.Variable(tf.random_normal([P]))\n",
    "    fitness_pc = tf.Variable(tf.zeros([P]))\n",
    "    \n",
    "    Wpbest= tf.Variable(tf.random_normal([P]))\n",
    "    bpbest= tf.Variable(tf.random_normal([P]))\n",
    "    fitness_pbest = tf.Variable(tf.zeros([P]))\n",
    "    \n",
    "    Wglobal= tf.Variable(tf.random_normal([1]))\n",
    "    bglobal= tf.Variable(tf.random_normal([1]))\n",
    "    fitness_global = tf.Variable(tf.zeros([1]))\n",
    "    \n",
    "    V_W = tf.Variable(tf.zeros([P]))   #Particle velocity\n",
    "    V_b = tf.Variable(tf.zeros([P]))\n",
    "    return Wpc,bpc,Wpbest,bpbest,Wglobal,bglobal,V_W,V_b,fitness_pc,fitness_pbest,fitness_global\n",
    "\n",
    "Wpc,bpc,Wpbest,bpbest,Wglobal,bglobal,V_W,V_b,fitness_pc,fitness_pbest,fitness_global =swarm(P)\n",
    "print(Wglobal)"
   ]
  },
  {
   "cell_type": "code",
   "execution_count": 5,
   "metadata": {
    "collapsed": false
   },
   "outputs": [],
   "source": [
    "\n",
    "x = tf.placeholder(tf.float32)\n",
    "W = tf.placeholder(tf.float32)\n",
    "b = tf.placeholder(tf.float32)\n",
    "i = tf.placeholder(tf.int32)\n",
    "y_ = tf.placeholder(tf.float32)"
   ]
  },
  {
   "cell_type": "code",
   "execution_count": 6,
   "metadata": {
    "collapsed": false
   },
   "outputs": [],
   "source": [
    "#Update particles\n",
    "V_W_update = V_W[i].assign(V_W[i]+(Wpbest[i] - Wpc[i])*c1*np.random.random() +(Wglobal[0] - Wpc[i])*c2*np.random.random() )\n",
    "V_b_update = V_b[i].assign(V_b[i]+(bpbest[i] - bpc[i])*c1*np.random.random() +(bglobal[0] - bpc[i])*c2*np.random.random() )\n",
    "Wp_update = Wpc[i].assign(V_W[i]+Wpc[i])\n",
    "bp_update = bpc[i].assign(V_b[i]+bpc[i])\n",
    "\n",
    "#Cost\n",
    "y = Wpc[i]*x + bpc[i]\n",
    "y_best = Wglobal[0]*x + bglobal[0]\n",
    "error= tf.reduce_mean(tf.square(y- y_))\n",
    "#Update fitness\n",
    "update_fitness_pc = fitness_pc[i].assign(error)\n",
    "update_fitness_pbest = fitness_pbest[i].assign(fitness_pc[i])\n",
    "update_fitness_global = fitness_global[0].assign(fitness_pc[i])\n",
    "initialize_fitness_global = fitness_global[0].assign(tf.reduce_min(fitness_pbest))\n",
    "\n",
    "update_Wpbest = Wpbest[i].assign(Wpc[i])\n",
    "update_bpbest = bpbest[i].assign(bpc[i])\n",
    "update_Wglobal = Wglobal[0].assign(Wpc[i])\n",
    "update_bglobal = bglobal[0].assign(bpc[i])\n",
    "\n",
    "def f1():return [Wpbest[i].assign(Wpc[i]),bpbest[i].assign(bpc[i]),fitness_pbest[i].assign(fitness_pc[i])]\n",
    "def f2():return [Wpbest[i],bpbest[i],fitness_pbest[i]]\n",
    "pbest_update= tf.cond(tf.less(fitness_pc[i], fitness_pbest[i]), f1, f2)\n",
    "\n",
    "def f3():return [Wglobal[0].assign(Wpc[i]),bglobal[0].assign(bpc[i]),fitness_global[0].assign(fitness_pc[i])]\n",
    "def f4():return [Wglobal[0],bglobal[0],fitness_global[0]]\n",
    "global_update= tf.cond(tf.less(fitness_pc[i], fitness_global[0]), f3, f4)\n"
   ]
  },
  {
   "cell_type": "code",
   "execution_count": 7,
   "metadata": {
    "collapsed": false
   },
   "outputs": [
    {
     "name": "stdout",
     "output_type": "stream",
     "text": [
      "particle values: [-1.183519, 0.12104675, array([ 1.26057863], dtype=float32)]\n",
      "velocity: [0.0]\n",
      "updated velocity: [0.22457315]\n",
      "updated particle values: [-0.95894587, 0.12104675, array([ 1.26057863], dtype=float32)]\n",
      "Particle fitness: [  656.99047852    37.46862411    28.43012238   161.91816711   145.53970337\n",
      "  1187.09838867    70.42167664   455.15982056   212.39060974   298.3180542\n",
      "    74.80740356   240.78770447   515.75317383   417.45715332   661.38879395\n",
      "   309.03106689   152.50682068    93.97427368  1329.80895996    41.00566101\n",
      "   286.15344238   835.21405029    90.55854797  1022.83959961   479.7142334\n",
      "   440.23284912    89.47000885    52.22284317   444.87063599   556.41821289]\n",
      "Global fitness: [ 28.43012238]\n",
      "Iteration: 0\n",
      "Iteration: 50\n",
      "Iteration: 100\n",
      "Iteration: 150\n",
      "Iteration: 200\n",
      "Iteration: 250\n",
      "Iteration: 300\n",
      "Iteration: 350\n",
      "Iteration: 400\n",
      "Iteration: 450\n",
      "Particle best fitness: [ 1.50870967  1.51635909  1.49878228  1.52140856  1.4963932   1.5079844\n",
      "  1.49642992  1.49560547  1.52005434  1.5571239   1.50199151  1.50571299\n",
      "  1.50064182  1.49593186  1.49607635  1.49836063  1.49683821  1.50328362\n",
      "  1.50678027  1.49783087  1.49657941  1.54707086  1.50088143  1.62766266\n",
      "  1.50725257  1.5451591   1.49923384  1.49645495  1.51691771  1.50163591]\n",
      "Global best fitness: [ 1.49560547]\n",
      "Global best particle: [array([ 0.37003803], dtype=float32), array([ 11.00236607], dtype=float32)]\n",
      "Time taken: 115.34347772598267\n"
     ]
    }
   ],
   "source": [
    "start_time = time.time()\n",
    "init = tf.global_variables_initializer()\n",
    "with tf.Session() as sess:\n",
    "    sess.run(init)\n",
    "    sess.run([V_W_update,V_b_update],feed_dict={i:0})\n",
    "    sess.run([Wp_update,bp_update],feed_dict={i:0})\n",
    "   \n",
    "    for k in range(P):     #Initialize particles\n",
    "        sess.run([update_fitness_pc],feed_dict={i:k,x:x1,y_:y1_})\n",
    "        sess.run([update_fitness_pbest],feed_dict={i:k})\n",
    "    sess.run([initialize_fitness_global])\n",
    "    print(\"Particle fitness:\",sess.run(fitness_pc))\n",
    "    print(\"Global fitness:\",sess.run(fitness_global))\n",
    "    \n",
    "    for j in range(N):      #Loop over N iterations\n",
    "        for k in range(P):  #Loop over P particles\n",
    "            \n",
    "            sess.run([V_W_update,V_b_update],feed_dict={i:k})\n",
    "            sess.run([Wp_update,bp_update],feed_dict={i:k})\n",
    "            sess.run([update_fitness_pc],feed_dict={i:k,x:x1,y_:y1_})\n",
    "            \n",
    "           \n",
    "            sess.run([pbest_update],feed_dict={i:k}) \n",
    "           \n",
    "            sess.run([global_update],feed_dict={i:k})\n",
    "                        \n",
    "            \n",
    "        if j%50== 0:\n",
    "            print(\"Iteration:\",j)    \n",
    "    print(\"Particle best fitness:\",sess.run(fitness_pbest)) \n",
    "    print(\"Global best fitness:\",sess.run(fitness_global)) \n",
    "    print(\"Global best particle:\",sess.run([Wglobal,bglobal]))  \n",
    "    \n",
    "    yfinal =sess.run([y_best],feed_dict={x:x1,y_:y1_}) #storing values\n",
    "print(\"Time taken:\", (time.time() - start_time))        "
   ]
  },
  {
   "cell_type": "code",
   "execution_count": 8,
   "metadata": {
    "collapsed": false
   },
   "outputs": [
    {
     "data": {
      "text/plain": [
       "<matplotlib.collections.PathCollection at 0x1745fe69b00>"
      ]
     },
     "execution_count": 8,
     "metadata": {},
     "output_type": "execute_result"
    },
    {
     "data": {
      "image/png": "[encoded data removed]",
      "text/plain": [
       "<matplotlib.figure.Figure at 0x174791ccb38>"
      ]
     },
     "metadata": {},
     "output_type": "display_data"
    }
   ],
   "source": [
    "plt.scatter(x1,y1_,color='red')  #Plot original line\n",
    "plt.scatter(x1,yfinal,color='blue')   #Plot fitted line"
   ]
  }
 ],
 "metadata": {
  "anaconda-cloud": {},
  "kernelspec": {
   "display_name": "Python [conda root]",
   "language": "python",
   "name": "conda-root-py"
  },
  "language_info": {
   "codemirror_mode": {
    "name": "ipython",
    "version": 3
   },
   "file_extension": ".py",
   "mimetype": "text/x-python",
   "name": "python",
   "nbconvert_exporter": "python",
   "pygments_lexer": "ipython3",
   "version": "3.5.2"
  }
 },
 "nbformat": 4,
 "nbformat_minor": 1
}
